{
 "cells": [
  {
   "metadata": {},
   "cell_type": "markdown",
   "source": "# 2. Incomplete, Positive-Only Labels",
   "id": "e52c64823c93d6f"
  },
  {
   "metadata": {},
   "cell_type": "markdown",
   "source": "(a) 노트 참고",
   "id": "25c2bd91a85d6ee3"
  },
  {
   "metadata": {},
   "cell_type": "markdown",
   "source": "(b) 노트 참고",
   "id": "219eadbbecc6af23"
  },
  {
   "metadata": {},
   "cell_type": "markdown",
   "source": "(c)",
   "id": "c6b864c5321841d2"
  },
  {
   "cell_type": "code",
   "id": "initial_id",
   "metadata": {
    "collapsed": true,
    "ExecuteTime": {
     "end_time": "2024-11-14T01:58:56.019191Z",
     "start_time": "2024-11-14T01:58:53.232624Z"
    }
   },
   "source": [
    "#  기본 모듈 import\n",
    "\n",
    "import numpy as np\n",
    "import src.util as util\n",
    "from src.linear_model import LinearModel"
   ],
   "outputs": [],
   "execution_count": 1
  },
  {
   "metadata": {
    "ExecuteTime": {
     "end_time": "2024-11-14T02:06:27.882250Z",
     "start_time": "2024-11-14T02:06:27.841231Z"
    }
   },
   "cell_type": "code",
   "source": [
    "# 데이터 로드\n",
    "\n",
    "x_train, y_train = util.load_dataset('data/ds3_train.csv', add_intercept=True)\n",
    "_, t_train = util.load_dataset('data/ds3_train.csv', label_col='t')\n",
    "x_valid, y_valid = util.load_dataset('data/ds3_valid.csv', add_intercept=True)\n",
    "_, t_valid = util.load_dataset('data/ds3_valid.csv', label_col='t')\n",
    "x_test, y_test = util.load_dataset('data/ds3_test.csv', add_intercept=True)\n",
    "_, t_test = util.load_dataset('data/ds3_test.csv', label_col='t')"
   ],
   "id": "e326057136edf95f",
   "outputs": [],
   "execution_count": 2
  },
  {
   "metadata": {
    "ExecuteTime": {
     "end_time": "2024-11-14T02:28:07.588221Z",
     "start_time": "2024-11-14T02:28:07.578746Z"
    }
   },
   "cell_type": "code",
   "source": [
    "# Logistic Regression Classifier 정의\n",
    "\n",
    "class LogisticRegression(LinearModel):\n",
    "    \n",
    "    # Gradient 계산\n",
    "    def fit(self, x, y):\n",
    "\n",
    "        # Logistic Function\n",
    "        def h(theta, x):\n",
    "            return 1 / (1 + np.exp(-np.dot(x, theta)))\n",
    "\n",
    "        # Gradient 계산\n",
    "        def gradient(theta, x, y):\n",
    "            m, _ = x.shape\n",
    "            return -1 / m * np.dot(x.T, (y - h(theta, x)))\n",
    "\n",
    "        # Hessian 계산\n",
    "        def hessian(theta, x):\n",
    "            \n",
    "            m, _ = x.shape\n",
    "            h_theta_x = np.reshape(h(theta, x), (-1, 1))\n",
    "            return 1 / m * np.dot(x.T, h_theta_x * (1 - h_theta_x) * x)\n",
    "\n",
    "        # Theta 업데이트\n",
    "        def getNextTheta(theta, x, y):\n",
    "            return theta - np.dot(np.linalg.inv(hessian(theta, x)), gradient(theta, x, y))\n",
    "        \n",
    "        # 데이터 차원 정의\n",
    "        m, n = x.shape\n",
    "\n",
    "        # Theta 초기화\n",
    "        if self.theta is None:\n",
    "            self.theta = np.zeros(n)\n",
    "\n",
    "        # Newton's Method\n",
    "        old_theta = self.theta\n",
    "        new_theta = getNextTheta(self.theta, x, y)\n",
    "        while np.linalg.norm(new_theta - old_theta, 1) >= self.eps:\n",
    "            old_theta = new_theta\n",
    "            new_theta = getNextTheta(old_theta, x, y)\n",
    "\n",
    "        self.theta = new_theta\n",
    "    \n",
    "    # 예측\n",
    "    def predict(self, x):\n",
    "        \n",
    "        # 행렬 곱을 통한 예측\n",
    "        return x @ self.theta >= 0\n"
   ],
   "id": "5d07a161689431e4",
   "outputs": [],
   "execution_count": 22
  },
  {
   "metadata": {
    "ExecuteTime": {
     "end_time": "2024-11-14T02:28:08.508612Z",
     "start_time": "2024-11-14T02:28:08.502011Z"
    }
   },
   "cell_type": "code",
   "source": [
    "# t 라벨 사용\n",
    "\n",
    "log_reg = LogisticRegression()\n",
    "log_reg.fit(x_train, t_train)"
   ],
   "id": "d996505df6dda16b",
   "outputs": [],
   "execution_count": 23
  },
  {
   "metadata": {
    "ExecuteTime": {
     "end_time": "2024-11-14T02:28:09.671498Z",
     "start_time": "2024-11-14T02:28:09.525492Z"
    }
   },
   "cell_type": "code",
   "source": [
    "# 결과 출력\n",
    "\n",
    "util.plot(x_test, t_test, log_reg.theta)\n",
    "print(\"Theta: \" + str(log_reg.theta) + \", Accuracy: \" + str(np.mean(t_train == log_reg.predict(x_train))))"
   ],
   "id": "cf478b0e5530862b",
   "outputs": [
    {
     "name": "stdout",
     "output_type": "stream",
     "text": [
      "Theta: [-0.9711418   2.73208784  1.07403478], Accuracy: 0.9632\n"
     ]
    },
    {
     "data": {
      "text/plain": [
       "<Figure size 640x480 with 1 Axes>"
      ],
      "image/png": "[encoded data removed]"
     },
     "metadata": {},
     "output_type": "display_data"
    }
   ],
   "execution_count": 24
  },
  {
   "metadata": {},
   "cell_type": "markdown",
   "source": "(d)",
   "id": "2fb2b205028cc464"
  },
  {
   "metadata": {
    "ExecuteTime": {
     "end_time": "2024-11-14T02:28:13.199919Z",
     "start_time": "2024-11-14T02:28:13.191513Z"
    }
   },
   "cell_type": "code",
   "source": [
    "# t 라벨 사용 불가능! 대신 y 라벨 사용\n",
    "\n",
    "log_reg = LogisticRegression()\n",
    "log_reg.fit(x_train, y_train)"
   ],
   "id": "6ed6542fc6f941ed",
   "outputs": [],
   "execution_count": 25
  },
  {
   "metadata": {
    "ExecuteTime": {
     "end_time": "2024-11-14T02:28:14.573929Z",
     "start_time": "2024-11-14T02:28:14.452757Z"
    }
   },
   "cell_type": "code",
   "source": [
    "# 결과 출력\n",
    "\n",
    "util.plot(x_test, y_test, log_reg.theta)\n",
    "print(\"Theta: \" + str(log_reg.theta) + \", Accuracy: \" + str(np.mean(y_train == log_reg.predict(x_train))))"
   ],
   "id": "d7283d93f9bc54f5",
   "outputs": [
    {
     "name": "stdout",
     "output_type": "stream",
     "text": [
      "Theta: [-2.91607454  0.78596651  0.09282768], Accuracy: 0.9\n"
     ]
    },
    {
     "data": {
      "text/plain": [
       "<Figure size 640x480 with 1 Axes>"
      ],
      "image/png": "[encoded data removed]"
     },
     "metadata": {},
     "output_type": "display_data"
    }
   ],
   "execution_count": 26
  },
  {
   "metadata": {},
   "cell_type": "markdown",
   "source": "(e)",
   "id": "a020f0661ad78f48"
  },
  {
   "metadata": {},
   "cell_type": "code",
   "outputs": [],
   "execution_count": null,
   "source": [
    "# Logistic 클래스에서 h 함수 가져오기\n",
    "\n",
    "def h(theta, x):\n",
    "    return 1 / (1 + np.exp(-np.dot(x, theta)))"
   ],
   "id": "97d920684537ac29"
  },
  {
   "metadata": {},
   "cell_type": "code",
   "outputs": [],
   "execution_count": null,
   "source": [
    "# alpha 추정\n",
    "\n",
    "v_p = x_valid[y_valid == 1]\n",
    "alpha = h(log_reg.theta, v_p).mean()"
   ],
   "id": "a807f6882e1bc9d5"
  },
  {
   "metadata": {},
   "cell_type": "code",
   "outputs": [],
   "execution_count": null,
   "source": [
    "# Logistic 클래스에서 predict 함수 가져와 alpha를 이용하도록 코드 수정\n",
    "\n",
    "def predict(theta, x):\n",
    "    return h(theta, x) / alpha >= 0.5"
   ],
   "id": "cb0a65f30dbb7997"
  },
  {
   "metadata": {},
   "cell_type": "markdown",
   "source": "이후 과정은 진행하지 못했습니다.",
   "id": "77fbd5ddbf1f9bef"
  }
 ],
 "metadata": {
  "kernelspec": {
   "display_name": "Python 3",
   "language": "python",
   "name": "python3"
  },
  "language_info": {
   "codemirror_mode": {
    "name": "ipython",
    "version": 2
   },
   "file_extension": ".py",
   "mimetype": "text/x-python",
   "name": "python",
   "nbconvert_exporter": "python",
   "pygments_lexer": "ipython2",
   "version": "2.7.6"
  }
 },
 "nbformat": 4,
 "nbformat_minor": 5
}
