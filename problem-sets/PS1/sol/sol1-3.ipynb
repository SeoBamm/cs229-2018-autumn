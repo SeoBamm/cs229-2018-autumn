{
 "cells": [
  {
   "metadata": {},
   "cell_type": "markdown",
   "source": "# 3. Poisson Regression",
   "id": "d266e2dfe337bc3b"
  },
  {
   "metadata": {},
   "cell_type": "markdown",
   "source": "(a) 노트 참고",
   "id": "f3657f9e270162ca"
  },
  {
   "metadata": {},
   "cell_type": "markdown",
   "source": "(b) 노트 참고",
   "id": "51ad985f0663de00"
  },
  {
   "metadata": {},
   "cell_type": "markdown",
   "source": "(c) 이후 과정은 진행하지 못했습니다",
   "id": "9b0e81be95d33e04"
  }
 ],
 "metadata": {
  "kernelspec": {
   "display_name": "Python 3",
   "language": "python",
   "name": "python3"
  },
  "language_info": {
   "codemirror_mode": {
    "name": "ipython",
    "version": 2
   },
   "file_extension": ".py",
   "mimetype": "text/x-python",
   "name": "python",
   "nbconvert_exporter": "python",
   "pygments_lexer": "ipython2",
   "version": "2.7.6"
  }
 },
 "nbformat": 4,
 "nbformat_minor": 5
}
