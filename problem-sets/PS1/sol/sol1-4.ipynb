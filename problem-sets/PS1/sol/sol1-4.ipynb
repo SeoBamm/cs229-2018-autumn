{
 "cells": [
  {
   "metadata": {},
   "cell_type": "markdown",
   "source": "# 4. Convexity of Generalized Linear Models",
   "id": "44a0a2f1fb29f126"
  },
  {
   "metadata": {},
   "cell_type": "markdown",
   "source": "(a) 노트 참고",
   "id": "529802f05bda06a8"
  },
  {
   "metadata": {},
   "cell_type": "markdown",
   "source": "(b) 이후 과정은 진행하지 못했습니다",
   "id": "ead59e7b97637761"
  }
 ],
 "metadata": {
  "kernelspec": {
   "display_name": "Python 3",
   "language": "python",
   "name": "python3"
  },
  "language_info": {
   "codemirror_mode": {
    "name": "ipython",
    "version": 2
   },
   "file_extension": ".py",
   "mimetype": "text/x-python",
   "name": "python",
   "nbconvert_exporter": "python",
   "pygments_lexer": "ipython2",
   "version": "2.7.6"
  }
 },
 "nbformat": 4,
 "nbformat_minor": 5
}
